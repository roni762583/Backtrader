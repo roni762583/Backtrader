{
  "nbformat": 4,
  "nbformat_minor": 0,
  "metadata": {
    "colab": {
      "name": "CleanBible.ipynb",
      "provenance": [],
      "collapsed_sections": [],
      "include_colab_link": true
    },
    "kernelspec": {
      "name": "python3",
      "display_name": "Python 3"
    }
  },
  "cells": [
    {
      "cell_type": "markdown",
      "metadata": {
        "id": "view-in-github",
        "colab_type": "text"
      },
      "source": [
        "<a href=\"https://colab.research.google.com/github/roni762583/Backtrader/blob/main/CleanBible.ipynb\" target=\"_parent\"><img src=\"https://colab.research.google.com/assets/colab-badge.svg\" alt=\"Open In Colab\"/></a>"
      ]
    },
    {
      "cell_type": "code",
      "metadata": {
        "id": "6zBzsPxHN65m"
      },
      "source": [
        "import numpy as np\n",
        "import matplotlib.pyplot as plt\n",
        "import pandas as pd\n",
        "import math\n"
      ],
      "execution_count": 1,
      "outputs": []
    },
    {
      "cell_type": "markdown",
      "metadata": {
        "id": "F3TKovyRC-gU"
      },
      "source": [
        "LOAD DATA - Ref: https://medium.com/@yuraist/how-to-upload-your-own-dataset-into-google-colab-e228727c87e9"
      ]
    },
    {
      "cell_type": "code",
      "metadata": {
        "id": "nhfJX_ApDEeu",
        "colab": {
          "base_uri": "https://localhost:8080/"
        },
        "outputId": "a152d5a2-607b-4fb3-998a-e4c7af4fb5fa"
      },
      "source": [
        "#clone data\n",
        "! git clone https://github.com/roni762583/bible-data-science.github.io.git"
      ],
      "execution_count": 2,
      "outputs": [
        {
          "output_type": "stream",
          "text": [
            "Cloning into 'bible-data-science.github.io'...\n",
            "remote: Enumerating objects: 23, done.\u001b[K\n",
            "remote: Counting objects: 100% (23/23), done.\u001b[K\n",
            "remote: Compressing objects: 100% (23/23), done.\u001b[K\n",
            "remote: Total 175 (delta 9), reused 0 (delta 0), pack-reused 152\u001b[K\n",
            "Receiving objects: 100% (175/175), 7.60 MiB | 9.08 MiB/s, done.\n",
            "Resolving deltas: 100% (86/86), done.\n"
          ],
          "name": "stdout"
        }
      ]
    },
    {
      "cell_type": "code",
      "metadata": {
        "id": "NLxOA709OvFs"
      },
      "source": [
        "# copy my datafile\n",
        "! cp /content/bible-data-science.github.io/data/t3utf.dat datafile"
      ],
      "execution_count": 3,
      "outputs": []
    },
    {
      "cell_type": "code",
      "metadata": {
        "colab": {
          "base_uri": "https://localhost:8080/"
        },
        "id": "z8MMD4X4TWxC",
        "outputId": "c7332c30-e790-4d5a-f7db-224c37549357"
      },
      "source": [
        "! ls -la\n",
        "# delete unused parts\n",
        "! rm -rf /content/bible-data-science.github.io/\n",
        "! echo '--------------------------------------'\n",
        "! ls -la"
      ],
      "execution_count": 4,
      "outputs": [
        {
          "output_type": "stream",
          "text": [
            "total 5652\n",
            "drwxr-xr-x 1 root root    4096 Jan 17 15:10 .\n",
            "drwxr-xr-x 1 root root    4096 Jan 17 15:08 ..\n",
            "drwxr-xr-x 7 root root    4096 Jan 17 15:10 bible-data-science.github.io\n",
            "drwxr-xr-x 1 root root    4096 Jan  8 17:11 .config\n",
            "-rw-r--r-- 1 root root 5763655 Jan 17 15:10 datafile\n",
            "drwxr-xr-x 1 root root    4096 Jan  6 18:10 sample_data\n",
            "--------------------------------------\n",
            "total 5648\n",
            "drwxr-xr-x 1 root root    4096 Jan 17 15:10 .\n",
            "drwxr-xr-x 1 root root    4096 Jan 17 15:08 ..\n",
            "drwxr-xr-x 1 root root    4096 Jan  8 17:11 .config\n",
            "-rw-r--r-- 1 root root 5763655 Jan 17 15:10 datafile\n",
            "drwxr-xr-x 1 root root    4096 Jan  6 18:10 sample_data\n"
          ],
          "name": "stdout"
        }
      ]
    },
    {
      "cell_type": "code",
      "metadata": {
        "colab": {
          "base_uri": "https://localhost:8080/"
        },
        "id": "shb6Q07TUHRo",
        "outputId": "8af7de9a-0446-4740-f9aa-b663296aded3"
      },
      "source": [
        "# Opening file \n",
        "file1 = open('datafile', 'r') \n",
        "count = 0\n",
        "s = '' # basic Hebrew chars string\n",
        "s2 = '' # non-Hebrew chars string\n",
        "# dataframe for reshaped data\n",
        "# df = pd.dataframe()\n",
        "# loop over file line by line, one verse per line \n",
        "for line in file1: \n",
        "    count += 1\n",
        "    #print(\"Line{}: {}\".format(count, line.strip())) \n",
        "    #print(line[0]) # first character in line\n",
        "    #print(line.rfind('|')) # last index of pipe '|' character\n",
        "    line = (line[line.rfind('|')+1:]).replace('׃','') #remove verse and colon\n",
        "    line = line.strip() # remove newline char\n",
        "    line = line.replace(\" \", \"\") # remove spaces\n",
        "    for c in line:\n",
        "      if c in {'א', 'ב', 'ג' ,'ד','ה','ו','ז','ח','ט','י','כ','ך','ל','מ','ם','נ','ן','ס','ע','פ','ף','צ','ץ','ק','ר','ש','ת'}:\n",
        "        s += c # concat Hebrew letter to s\n",
        "      else:\n",
        "        s2 += c\n",
        "# print (list(set(s2))) # get unique chars list\n",
        "print (s[-1]) # print last letter ל\n",
        "# Closing files \n",
        "file1.close()\n",
        "# print(s)\n",
        "# '\\u200d' is Zero-Width Joiner\n"
      ],
      "execution_count": 5,
      "outputs": [
        {
          "output_type": "stream",
          "text": [
            "ל\n"
          ],
          "name": "stdout"
        }
      ]
    },
    {
      "cell_type": "code",
      "metadata": {
        "colab": {
          "base_uri": "https://localhost:8080/"
        },
        "id": "xKSTMcW90rMH",
        "outputId": "36ec94ed-ca8f-4c63-f6bc-3e473e46ff33"
      },
      "source": [
        "# write no spaces string to file - only run once\n",
        "text_file = open(\"NoSpacesTanach.dat\", \"w\")\n",
        "text_file.write(s)\n",
        "text_file.close()\n",
        "\n",
        "# delete intermediary datafile\n",
        "! rm datafile\n",
        "\n",
        "#see\n",
        "! ls -la"
      ],
      "execution_count": null,
      "outputs": [
        {
          "output_type": "stream",
          "text": [
            "total 2368\n",
            "drwxr-xr-x 1 root root    4096 Jan 17 05:33 .\n",
            "drwxr-xr-x 1 root root    4096 Jan 17 02:30 ..\n",
            "drwxr-xr-x 1 root root    4096 Jan  8 17:11 .config\n",
            "-rw-r--r-- 1 root root 2405776 Jan 17 05:33 NoSpacesTanach.dat\n"
          ],
          "name": "stdout"
        }
      ]
    },
    {
      "cell_type": "code",
      "metadata": {
        "colab": {
          "base_uri": "https://localhost:8080/",
          "height": 17
        },
        "id": "nAD3QOA4169Z",
        "outputId": "694a2de4-88bd-4cc9-fdf3-aaa26e44767e"
      },
      "source": [
        "# download result file - only run once\n",
        "from google.colab import files\n",
        "files.download('NoSpacesTanach.dat')"
      ],
      "execution_count": null,
      "outputs": [
        {
          "output_type": "display_data",
          "data": {
            "application/javascript": [
              "\n",
              "    async function download(id, filename, size) {\n",
              "      if (!google.colab.kernel.accessAllowed) {\n",
              "        return;\n",
              "      }\n",
              "      const div = document.createElement('div');\n",
              "      const label = document.createElement('label');\n",
              "      label.textContent = `Downloading \"${filename}\": `;\n",
              "      div.appendChild(label);\n",
              "      const progress = document.createElement('progress');\n",
              "      progress.max = size;\n",
              "      div.appendChild(progress);\n",
              "      document.body.appendChild(div);\n",
              "\n",
              "      const buffers = [];\n",
              "      let downloaded = 0;\n",
              "\n",
              "      const channel = await google.colab.kernel.comms.open(id);\n",
              "      // Send a message to notify the kernel that we're ready.\n",
              "      channel.send({})\n",
              "\n",
              "      for await (const message of channel.messages) {\n",
              "        // Send a message to notify the kernel that we're ready.\n",
              "        channel.send({})\n",
              "        if (message.buffers) {\n",
              "          for (const buffer of message.buffers) {\n",
              "            buffers.push(buffer);\n",
              "            downloaded += buffer.byteLength;\n",
              "            progress.value = downloaded;\n",
              "          }\n",
              "        }\n",
              "      }\n",
              "      const blob = new Blob(buffers, {type: 'application/binary'});\n",
              "      const a = document.createElement('a');\n",
              "      a.href = window.URL.createObjectURL(blob);\n",
              "      a.download = filename;\n",
              "      div.appendChild(a);\n",
              "      a.click();\n",
              "      div.remove();\n",
              "    }\n",
              "  "
            ],
            "text/plain": [
              "<IPython.core.display.Javascript object>"
            ]
          },
          "metadata": {
            "tags": []
          }
        },
        {
          "output_type": "display_data",
          "data": {
            "application/javascript": [
              "download(\"download_58412f2d-7828-4a12-b0fd-6e4083eb8892\", \"NoSpacesTanach.dat\", 2405776)"
            ],
            "text/plain": [
              "<IPython.core.display.Javascript object>"
            ]
          },
          "metadata": {
            "tags": []
          }
        }
      ]
    },
    {
      "cell_type": "code",
      "metadata": {
        "colab": {
          "base_uri": "https://localhost:8080/"
        },
        "id": "KBBzdw9c5vc5",
        "outputId": "1b899faf-af86-4658-9793-2fd683b18d3b"
      },
      "source": [
        "# get user input for search term\n",
        "term1 = input (\"Enter Primary Search Term:\")"
      ],
      "execution_count": 6,
      "outputs": [
        {
          "output_type": "stream",
          "text": [
            "Enter Primary Search Term:עדנה\n"
          ],
          "name": "stdout"
        }
      ]
    },
    {
      "cell_type": "code",
      "metadata": {
        "colab": {
          "base_uri": "https://localhost:8080/"
        },
        "id": "FxS6zgil61D-",
        "outputId": "1260cd57-e50b-4ca9-c12f-5c028c615019"
      },
      "source": [
        "print(term1)"
      ],
      "execution_count": 7,
      "outputs": [
        {
          "output_type": "stream",
          "text": [
            "עדנה\n"
          ],
          "name": "stdout"
        }
      ]
    },
    {
      "cell_type": "code",
      "metadata": {
        "id": "hTn3t3q4673J"
      },
      "source": [
        "# find indeces of first term letter in bible text\n",
        "# from: https://stackoverflow.com/questions/1883980/find-the-nth-occurrence-of-substring-in-a-string\n",
        "def find_nth_overlapping(haystack, needle, n):\n",
        "    start = haystack.find(needle)\n",
        "    while start >= 0 and n > 1:\n",
        "        start = haystack.find(needle, start+1)\n",
        "        n -= 1\n",
        "    return start"
      ],
      "execution_count": 8,
      "outputs": []
    },
    {
      "cell_type": "code",
      "metadata": {
        "colab": {
          "base_uri": "https://localhost:8080/"
        },
        "id": "89PgiFdQFkdv",
        "outputId": "d8c3d599-c974-4b31-a874-01c90b8c0fbc"
      },
      "source": [
        "find_nth_overlapping(s, term1, 2)"
      ],
      "execution_count": 10,
      "outputs": [
        {
          "output_type": "execute_result",
          "data": {
            "text/plain": [
              "108600"
            ]
          },
          "metadata": {
            "tags": []
          },
          "execution_count": 10
        }
      ]
    },
    {
      "cell_type": "code",
      "metadata": {
        "colab": {
          "base_uri": "https://localhost:8080/"
        },
        "id": "V0AdyRZVF92k",
        "outputId": "3eff4349-149d-4ada-c025-472fe492dd0f"
      },
      "source": [
        "print(s[108590:108614])"
      ],
      "execution_count": 13,
      "outputs": [
        {
          "output_type": "stream",
          "text": [
            "הואםלבנוייעדנהכמשפטהבנות\n"
          ],
          "name": "stdout"
        }
      ]
    }
  ]
}